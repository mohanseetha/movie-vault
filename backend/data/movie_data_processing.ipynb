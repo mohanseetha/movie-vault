{
 "cells": [
  {
   "cell_type": "code",
   "execution_count": 1,
   "id": "c32d24c1",
   "metadata": {},
   "outputs": [],
   "source": [
    "import pandas as pd\n",
    "import gzip\n",
    "import pickle\n",
    "from ast import literal_eval"
   ]
  },
  {
   "cell_type": "code",
   "execution_count": 2,
   "id": "41824e73",
   "metadata": {},
   "outputs": [],
   "source": [
    "# Load the dataset\n",
    "df = pd.read_csv('data.csv')"
   ]
  },
  {
   "cell_type": "code",
   "execution_count": 3,
   "id": "87e8d735",
   "metadata": {},
   "outputs": [
    {
     "name": "stderr",
     "output_type": "stream",
     "text": [
      "/var/folders/nx/rfgnzt0n5_q_pjpq35ctvy980000gn/T/ipykernel_42492/3646997894.py:1: FutureWarning: Setting an item of incompatible dtype is deprecated and will raise in a future error of pandas. Value '['27205' '157336' '155' ... '758567' '758568' '1444333']' has dtype incompatible with int64, please explicitly cast to a compatible dtype first.\n",
      "  df.loc[:, 'id'] = df['id'].astype(str)\n"
     ]
    }
   ],
   "source": [
    "df.loc[:, 'id'] = df['id'].astype(str)\n",
    "df.loc[:, 'title_lower'] = df['title'].str.lower()"
   ]
  },
  {
   "cell_type": "code",
   "execution_count": 4,
   "id": "94cd9d83",
   "metadata": {},
   "outputs": [],
   "source": [
    "# Data Cleaning\n",
    "features = ['keywords', 'genres', 'overview', 'title', 'spoken_languages', 'production_countries']\n",
    "df[features] = df[features].fillna('')\n",
    "df.drop_duplicates(inplace=True)"
   ]
  },
  {
   "cell_type": "code",
   "execution_count": 5,
   "id": "9a8c5670",
   "metadata": {},
   "outputs": [],
   "source": [
    "# Safe evaluation for list-like data\n",
    "def safe_literal_eval(value):\n",
    "    if isinstance(value, str):\n",
    "        try:\n",
    "            return literal_eval(value)\n",
    "        except (ValueError, SyntaxError):\n",
    "            return value.split(',') if value else []\n",
    "    return value if isinstance(value, list) else []"
   ]
  },
  {
   "cell_type": "code",
   "execution_count": 6,
   "id": "5ebf5ef5",
   "metadata": {},
   "outputs": [],
   "source": [
    "# Clean feature data\n",
    "def clean_data(x):\n",
    "    if isinstance(x, list):\n",
    "        return [str.lower(i.replace(\" \", \"\")) for i in x]\n",
    "    else:\n",
    "        return ''"
   ]
  },
  {
   "cell_type": "code",
   "execution_count": 7,
   "id": "b79163aa",
   "metadata": {},
   "outputs": [],
   "source": [
    "# Apply data cleaning\n",
    "for feature in ['keywords', 'genres', 'spoken_languages', 'production_countries']:\n",
    "    df[feature] = df[feature].apply(safe_literal_eval).apply(clean_data)"
   ]
  },
  {
   "cell_type": "code",
   "execution_count": 8,
   "id": "1e9547c3",
   "metadata": {},
   "outputs": [],
   "source": [
    "# Optional: Reduce dataset size for faster processing\n",
    "df = df[:30000]"
   ]
  },
  {
   "cell_type": "code",
   "execution_count": 9,
   "id": "8da89a79",
   "metadata": {},
   "outputs": [],
   "source": [
    "# Save DataFrame as a .pkl.gz file\n",
    "data_to_save = {'df': df}"
   ]
  },
  {
   "cell_type": "code",
   "execution_count": 10,
   "id": "92b39b37",
   "metadata": {},
   "outputs": [
    {
     "name": "stdout",
     "output_type": "stream",
     "text": [
      "✅ Model saved successfully as 'movie_data.pkl.gz'\n"
     ]
    }
   ],
   "source": [
    "with gzip.open('movie_data.pkl.gz', 'wb') as f:\n",
    "    pickle.dump(data_to_save, f)\n",
    "\n",
    "print(\"✅ Model saved successfully as 'movie_data.pkl.gz'\")"
   ]
  },
  {
   "cell_type": "code",
   "execution_count": null,
   "id": "d8634769",
   "metadata": {},
   "outputs": [],
   "source": []
  }
 ],
 "metadata": {
  "kernelspec": {
   "display_name": "Python 3 (ipykernel)",
   "language": "python",
   "name": "python3"
  },
  "language_info": {
   "codemirror_mode": {
    "name": "ipython",
    "version": 3
   },
   "file_extension": ".py",
   "mimetype": "text/x-python",
   "name": "python",
   "nbconvert_exporter": "python",
   "pygments_lexer": "ipython3",
   "version": "3.12.0"
  }
 },
 "nbformat": 4,
 "nbformat_minor": 5
}
